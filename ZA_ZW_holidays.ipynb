{
 "cells": [
  {
   "cell_type": "code",
   "execution_count": 7,
   "id": "9eace133-f101-4deb-b217-a98dba6116a1",
   "metadata": {},
   "outputs": [
    {
     "name": "stdout",
     "output_type": "stream",
     "text": [
      "Requirement already satisfied: holidays in c:\\users\\shume\\appdata\\local\\programs\\python\\python311\\lib\\site-packages (0.34)\n",
      "Requirement already satisfied: python-dateutil in c:\\users\\shume\\appdata\\local\\programs\\python\\python311\\lib\\site-packages (from holidays) (2.8.2)\n",
      "Requirement already satisfied: six>=1.5 in c:\\users\\shume\\appdata\\local\\programs\\python\\python311\\lib\\site-packages (from python-dateutil->holidays) (1.16.0)\n"
     ]
    }
   ],
   "source": [
    "!pip install --upgrade holidays"
   ]
  },
  {
   "cell_type": "code",
   "execution_count": 8,
   "id": "87a6576e-5451-4a9f-8956-da2f45341a6d",
   "metadata": {},
   "outputs": [],
   "source": [
    "import csv\n",
    "from datetime import date\n",
    "import holidays\n",
    "\n",
    "# Initialize empty dictionaries for Zimbabwe and South Africa\n",
    "zw_holidays = {}\n",
    "za_holidays = {}\n",
    "\n",
    "# Populate the dictionaries if the holiday data is available\n",
    "try:\n",
    "    zw_holidays = holidays.ZW(years=[2018, 2019, 2020, 2021, 2022])  # this should be a dict\n",
    "    za_holidays = holidays.ZA(years=[2018, 2019, 2020, 2021, 2022])  # this should be a dict\n",
    "except Exception as e:\n",
    "    print(f\"An error occurred: {e}\")\n",
    "\n",
    "# Combine the holiday dictionaries for both countries\n",
    "combined_holidays = {}\n",
    "if isinstance(zw_holidays, dict) and isinstance(za_holidays, dict):\n",
    "    combined_holidays = {\n",
    "        date: f\"{name} (ZW)\" for date, name in zw_holidays.items()\n",
    "    }\n",
    "    combined_holidays.update({\n",
    "        date: f\"{name} (ZA)\" for date, name in za_holidays.items()\n",
    "    })\n",
    "\n",
    "# Function to save holidays to a single CSV file\n",
    "def save_combined_holidays_to_csv(country_holidays, path):\n",
    "    with open(f\"{path}/Combined_Holidays.csv\", 'w', newline='') as csvfile:\n",
    "        csvwriter = csv.writer(csvfile)\n",
    "        csvwriter.writerow(['Date', 'Holiday', 'Country_Code'])\n",
    "        for date, name in sorted(country_holidays.items()):\n",
    "            country_code = name.split(' ')[-1][1:-1]\n",
    "            csvwriter.writerow([date, name, country_code])\n",
    "\n",
    "# Save combined holidays\n",
    "if combined_holidays:\n",
    "    save_combined_holidays_to_csv(combined_holidays, 'C:/Users/shume/Desktop/6501.81_Capstone Project/Refrences Data Comparision/Reference Data/')\n"
   ]
  },
  {
   "cell_type": "code",
   "execution_count": null,
   "id": "cf89ed1a-69af-4703-a91c-a635bf2edd0a",
   "metadata": {},
   "outputs": [],
   "source": []
  }
 ],
 "metadata": {
  "kernelspec": {
   "display_name": "Python 3 (ipykernel)",
   "language": "python",
   "name": "python3"
  },
  "language_info": {
   "codemirror_mode": {
    "name": "ipython",
    "version": 3
   },
   "file_extension": ".py",
   "mimetype": "text/x-python",
   "name": "python",
   "nbconvert_exporter": "python",
   "pygments_lexer": "ipython3",
   "version": "3.11.5"
  }
 },
 "nbformat": 4,
 "nbformat_minor": 5
}
