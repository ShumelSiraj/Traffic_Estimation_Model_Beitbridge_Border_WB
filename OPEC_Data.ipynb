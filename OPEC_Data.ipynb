{
 "cells": [
  {
   "cell_type": "code",
   "execution_count": 6,
   "id": "fed84033-0546-4985-b6b5-489031acd871",
   "metadata": {},
   "outputs": [
    {
     "name": "stdout",
     "output_type": "stream",
     "text": [
      "Requirement already satisfied: requests in c:\\users\\shume\\appdata\\local\\programs\\python\\python311\\lib\\site-packages (2.31.0)\n",
      "Requirement already satisfied: charset-normalizer<4,>=2 in c:\\users\\shume\\appdata\\local\\programs\\python\\python311\\lib\\site-packages (from requests) (3.3.0)\n",
      "Requirement already satisfied: idna<4,>=2.5 in c:\\users\\shume\\appdata\\local\\programs\\python\\python311\\lib\\site-packages (from requests) (3.4)\n",
      "Requirement already satisfied: urllib3<3,>=1.21.1 in c:\\users\\shume\\appdata\\local\\programs\\python\\python311\\lib\\site-packages (from requests) (2.0.5)\n",
      "Requirement already satisfied: certifi>=2017.4.17 in c:\\users\\shume\\appdata\\local\\programs\\python\\python311\\lib\\site-packages (from requests) (2023.7.22)\n"
     ]
    }
   ],
   "source": [
    "!pip install requests"
   ]
  },
  {
   "cell_type": "code",
   "execution_count": 7,
   "id": "42a14660-87aa-4a6d-8c79-ce4177519f0d",
   "metadata": {},
   "outputs": [
    {
     "name": "stdout",
     "output_type": "stream",
     "text": [
      "XML file downloaded. Proceeding to next steps.\n",
      "XML is well-formed.\n",
      "Filtered CSV saved at C:\\Users\\shume\\Desktop\\6501.81_Capstone Project\\Refrences Data Comparision\\OPEC_Fuel_price\\basketDayArchives.csv\n"
     ]
    }
   ],
   "source": [
    "import requests\n",
    "import xml.etree.ElementTree as ET\n",
    "import pandas as pd\n",
    "\n",
    "# Step 1: Download XML from URL\n",
    "file_url = 'https://www.opec.org/basket/basketDayArchives.xml'\n",
    "response = requests.get(file_url)\n",
    "\n",
    "if response.status_code != 200:\n",
    "    print(\"Failed to download the XML file. Please check the URL.\")\n",
    "else:\n",
    "    print(\"XML file downloaded. Proceeding to next steps.\")\n",
    "    \n",
    "    # Step 2: Parse XML\n",
    "    try:\n",
    "        root = ET.fromstring(response.content)\n",
    "        print(\"XML is well-formed.\")\n",
    "        \n",
    "        # Data extraction and CSV conversion steps\n",
    "        data_list = []\n",
    "        for child in root:\n",
    "            data_dict = {\n",
    "                \"Date\": child.attrib.get('data', None),\n",
    "                \"Price\": child.attrib.get('val', None)\n",
    "            }\n",
    "            data_list.append(data_dict)\n",
    "\n",
    "        df = pd.DataFrame(data_list)\n",
    "        df['Date'] = pd.to_datetime(df['Date'])\n",
    "        filtered_df = df[(df['Date'] >= '2018-01-01') & (df['Date'] <= '2022-12-31')]\n",
    "        filtered_csv_file_path = 'C:\\\\Users\\\\shume\\\\Desktop\\\\6501.81_Capstone Project\\\\Refrences Data Comparision\\\\OPEC_Fuel_price\\\\basketDayArchives.csv'\n",
    "        filtered_df.to_csv(filtered_csv_file_path, index=False)\n",
    "        print(f\"Filtered CSV saved at {filtered_csv_file_path}\")\n",
    "\n",
    "    except ET.ParseError:\n",
    "        print(\"XML is not well-formed. Please correct the XML and try again.\")\n"
   ]
  },
  {
   "cell_type": "markdown",
   "id": "e2afa9a3-bf04-4b9d-8fd9-f46b264f4043",
   "metadata": {},
   "source": [
    "The OPEC (Organization of the Petroleum Exporting Countries) Basket Price, also known as the OPEC Reference Basket, is a weighted average of oil prices collected from various OPEC member countries. It serves as a significant benchmark for oil prices worldwide and provides a reliable gauge of oil market conditions.\n",
    "\n",
    "The OPEC Basket is comprised of different crude oils from OPEC member countries, each with varying characteristics and prices. The oils included in the basket are selected based on their importance in the global oil market, and the basket is continually updated to reflect changes in production and exports.\n",
    "\n",
    "The OPEC Basket Price is used for:\n",
    "\n",
    "Market Analysis: It serves as a reference point for understanding global oil prices.\n",
    "Policy Decisions: OPEC and other organizations use it to make informed decisions about oil production quotas.\n",
    "Economic Forecasting: It is a crucial variable for predicting economic conditions, as fluctuations in oil prices can significantly impact the global economy."
   ]
  },
  {
   "cell_type": "code",
   "execution_count": null,
   "id": "2930c8f7-5b9c-40d7-8911-85315abe7f93",
   "metadata": {},
   "outputs": [],
   "source": []
  }
 ],
 "metadata": {
  "kernelspec": {
   "display_name": "Python 3 (ipykernel)",
   "language": "python",
   "name": "python3"
  },
  "language_info": {
   "codemirror_mode": {
    "name": "ipython",
    "version": 3
   },
   "file_extension": ".py",
   "mimetype": "text/x-python",
   "name": "python",
   "nbconvert_exporter": "python",
   "pygments_lexer": "ipython3",
   "version": "3.11.5"
  }
 },
 "nbformat": 4,
 "nbformat_minor": 5
}
