{
 "cells": [
  {
   "cell_type": "code",
   "execution_count": 1,
   "id": "9eace133-f101-4deb-b217-a98dba6116a1",
   "metadata": {},
   "outputs": [
    {
     "name": "stdout",
     "output_type": "stream",
     "text": [
      "Requirement already satisfied: holidays in c:\\users\\shume\\appdata\\local\\programs\\python\\python311\\lib\\site-packages (0.34)\n",
      "Requirement already satisfied: python-dateutil in c:\\users\\shume\\appdata\\local\\programs\\python\\python311\\lib\\site-packages (from holidays) (2.8.2)\n",
      "Requirement already satisfied: six>=1.5 in c:\\users\\shume\\appdata\\local\\programs\\python\\python311\\lib\\site-packages (from python-dateutil->holidays) (1.16.0)\n"
     ]
    }
   ],
   "source": [
    "!pip install --upgrade holidays"
   ]
  },
  {
   "cell_type": "code",
   "execution_count": 3,
   "id": "1f458f5e-8a80-4e76-800e-a4700579ed52",
   "metadata": {},
   "outputs": [],
   "source": [
    "import csv\n",
    "from datetime import date\n",
    "import holidays\n",
    "\n",
    "# Initialize empty dictionaries for Zimbabwe and South Africa\n",
    "zw_holidays = {}\n",
    "za_holidays = {}\n",
    "\n",
    "# Populate the dictionaries if the holiday data is available\n",
    "try:\n",
    "    zw_holidays = holidays.ZW(years=[2018, 2019, 2020, 2021, 2022])  # this should be a dict\n",
    "    za_holidays = holidays.ZA(years=[2018, 2019, 2020, 2021, 2022])  # this should be a dict\n",
    "except Exception as e:\n",
    "    print(f\"An error occurred: {e}\")\n",
    "\n",
    "# Combine the holiday dictionaries for both countries and keep the holiday name\n",
    "Combined_Holidays = {}\n",
    "if isinstance(zw_holidays, dict) and isinstance(za_holidays, dict):\n",
    "    Combined_Holidays = {date: name for date, name in zw_holidays.items()}\n",
    "    Combined_Holidays.update({date: name for date, name in za_holidays.items()})\n",
    "\n",
    "# Function to save holidays to a single CSV file\n",
    "def save_Combined_Holidays_to_csv(country_holidays, path):\n",
    "    with open(f\"{path}/Combined_Holidays.csv\", 'w', newline='') as csvfile:\n",
    "        csvwriter = csv.writer(csvfile)\n",
    "        csvwriter.writerow(['Date', 'Holiday'])  # Single 'Holiday' column\n",
    "        for date, name in sorted(country_holidays.items()):\n",
    "            csvwriter.writerow([date, name])  # Write Date and Holiday Name\n",
    "\n",
    "# Save combined holidays\n",
    "if Combined_Holidays:\n",
    "    save_Combined_Holidays_to_csv(Combined_Holidays, 'C:/Users/shume/Desktop/6501.81_Capstone Project/Refrences Data Comparision/Reference Data/')\n"
   ]
  },
  {
   "cell_type": "code",
   "execution_count": null,
   "id": "008d4f6b-8cb5-4769-92b0-a21342353c85",
   "metadata": {},
   "outputs": [],
   "source": []
  }
 ],
 "metadata": {
  "kernelspec": {
   "display_name": "Python 3 (ipykernel)",
   "language": "python",
   "name": "python3"
  },
  "language_info": {
   "codemirror_mode": {
    "name": "ipython",
    "version": 3
   },
   "file_extension": ".py",
   "mimetype": "text/x-python",
   "name": "python",
   "nbconvert_exporter": "python",
   "pygments_lexer": "ipython3",
   "version": "3.11.5"
  }
 },
 "nbformat": 4,
 "nbformat_minor": 5
}
