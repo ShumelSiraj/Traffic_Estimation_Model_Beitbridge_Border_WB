{
 "cells": [
  {
   "cell_type": "code",
   "execution_count": 1,
   "id": "2ef204e4-2245-4218-b013-1190a799f9f4",
   "metadata": {},
   "outputs": [
    {
     "name": "stdout",
     "output_type": "stream",
     "text": [
      "Requirement already satisfied: yfinance in c:\\users\\shume\\appdata\\local\\programs\\python\\python311\\lib\\site-packages (0.2.31)\n",
      "Requirement already satisfied: pandas>=1.3.0 in c:\\users\\shume\\appdata\\local\\programs\\python\\python311\\lib\\site-packages (from yfinance) (2.1.1)\n",
      "Requirement already satisfied: numpy>=1.16.5 in c:\\users\\shume\\appdata\\local\\programs\\python\\python311\\lib\\site-packages (from yfinance) (1.25.2)\n",
      "Requirement already satisfied: requests>=2.31 in c:\\users\\shume\\appdata\\local\\programs\\python\\python311\\lib\\site-packages (from yfinance) (2.31.0)\n",
      "Requirement already satisfied: multitasking>=0.0.7 in c:\\users\\shume\\appdata\\local\\programs\\python\\python311\\lib\\site-packages (from yfinance) (0.0.11)\n",
      "Requirement already satisfied: lxml>=4.9.1 in c:\\users\\shume\\appdata\\local\\programs\\python\\python311\\lib\\site-packages (from yfinance) (4.9.3)\n",
      "Requirement already satisfied: appdirs>=1.4.4 in c:\\users\\shume\\appdata\\local\\programs\\python\\python311\\lib\\site-packages (from yfinance) (1.4.4)\n",
      "Requirement already satisfied: pytz>=2022.5 in c:\\users\\shume\\appdata\\local\\programs\\python\\python311\\lib\\site-packages (from yfinance) (2023.3.post1)\n",
      "Requirement already satisfied: frozendict>=2.3.4 in c:\\users\\shume\\appdata\\local\\programs\\python\\python311\\lib\\site-packages (from yfinance) (2.3.8)\n",
      "Requirement already satisfied: peewee>=3.16.2 in c:\\users\\shume\\appdata\\local\\programs\\python\\python311\\lib\\site-packages (from yfinance) (3.17.0)\n",
      "Requirement already satisfied: beautifulsoup4>=4.11.1 in c:\\users\\shume\\appdata\\local\\programs\\python\\python311\\lib\\site-packages (from yfinance) (4.12.2)\n",
      "Requirement already satisfied: html5lib>=1.1 in c:\\users\\shume\\appdata\\local\\programs\\python\\python311\\lib\\site-packages (from yfinance) (1.1)\n",
      "Requirement already satisfied: soupsieve>1.2 in c:\\users\\shume\\appdata\\local\\programs\\python\\python311\\lib\\site-packages (from beautifulsoup4>=4.11.1->yfinance) (2.5)\n",
      "Requirement already satisfied: six>=1.9 in c:\\users\\shume\\appdata\\local\\programs\\python\\python311\\lib\\site-packages (from html5lib>=1.1->yfinance) (1.16.0)\n",
      "Requirement already satisfied: webencodings in c:\\users\\shume\\appdata\\local\\programs\\python\\python311\\lib\\site-packages (from html5lib>=1.1->yfinance) (0.5.1)\n",
      "Requirement already satisfied: python-dateutil>=2.8.2 in c:\\users\\shume\\appdata\\local\\programs\\python\\python311\\lib\\site-packages (from pandas>=1.3.0->yfinance) (2.8.2)\n",
      "Requirement already satisfied: tzdata>=2022.1 in c:\\users\\shume\\appdata\\local\\programs\\python\\python311\\lib\\site-packages (from pandas>=1.3.0->yfinance) (2023.3)\n",
      "Requirement already satisfied: charset-normalizer<4,>=2 in c:\\users\\shume\\appdata\\local\\programs\\python\\python311\\lib\\site-packages (from requests>=2.31->yfinance) (3.3.0)\n",
      "Requirement already satisfied: idna<4,>=2.5 in c:\\users\\shume\\appdata\\local\\programs\\python\\python311\\lib\\site-packages (from requests>=2.31->yfinance) (3.4)\n",
      "Requirement already satisfied: urllib3<3,>=1.21.1 in c:\\users\\shume\\appdata\\local\\programs\\python\\python311\\lib\\site-packages (from requests>=2.31->yfinance) (2.0.5)\n",
      "Requirement already satisfied: certifi>=2017.4.17 in c:\\users\\shume\\appdata\\local\\programs\\python\\python311\\lib\\site-packages (from requests>=2.31->yfinance) (2023.7.22)\n"
     ]
    },
    {
     "name": "stderr",
     "output_type": "stream",
     "text": [
      "\n",
      "[notice] A new release of pip is available: 23.3 -> 23.3.1\n",
      "[notice] To update, run: python.exe -m pip install --upgrade pip\n"
     ]
    }
   ],
   "source": [
    "!pip install yfinance"
   ]
  },
  {
   "cell_type": "markdown",
   "id": "4598f4a5-ba76-441c-b0ad-44618f2ef02c",
   "metadata": {},
   "source": [
    "AMS.JO: Anglo American Platinum Ltd - This company is the world's largest primary producer of platinum, and its stock is often considered a bellwether for the platinum industry.\n",
    "\n",
    "HAR.JO: Harmony Gold Mining Company Ltd - This is a gold mining and exploration company with operations primarily in South Africa.\n",
    "\n",
    "BAW.JO: Barloworld Limited - This is an industrial brand management company with a range of services including logistics, fleet management, and automotive retail.\n",
    "\n",
    "SHP.JO: Shoprite Holdings Ltd - This company operates the largest food retailer in Africa, with operations in multiple countries.\n",
    "\n",
    "WHL.JO: Woolworths Holdings Ltd - This is a multinational retail company that owns various brands and operates in many segments including clothing, food, and home decor.\n",
    "\n",
    "SBK.JO: Standard Bank Group Ltd - This is one of South Africa's largest financial services groups, providing a wide range of banking and financial services.\n",
    "\n",
    "FSR.JO: FirstRand Ltd - This is a financial services provider in South Africa and is considered one of the big four banks."
   ]
  },
  {
   "cell_type": "code",
   "execution_count": 2,
   "id": "bf5c9c32-bc5e-436c-b9cf-775fbed3ee94",
   "metadata": {},
   "outputs": [
    {
     "name": "stdout",
     "output_type": "stream",
     "text": [
      "[*********************100%%**********************]  1 of 1 completed\n",
      "Saved data for AMS.JO to C:\\Users\\shume\\Desktop\\6501.81_Capstone Project\\Refrences Data Comparision\\stock index\\AMS.JO_stock_data.csv\n",
      "[*********************100%%**********************]  1 of 1 completed\n",
      "Saved data for HAR.JO to C:\\Users\\shume\\Desktop\\6501.81_Capstone Project\\Refrences Data Comparision\\stock index\\HAR.JO_stock_data.csv\n",
      "[*********************100%%**********************]  1 of 1 completed\n",
      "Saved data for BAW.JO to C:\\Users\\shume\\Desktop\\6501.81_Capstone Project\\Refrences Data Comparision\\stock index\\BAW.JO_stock_data.csv\n",
      "[*********************100%%**********************]  1 of 1 completed\n",
      "Saved data for SHP.JO to C:\\Users\\shume\\Desktop\\6501.81_Capstone Project\\Refrences Data Comparision\\stock index\\SHP.JO_stock_data.csv\n",
      "[*********************100%%**********************]  1 of 1 completed\n",
      "Saved data for WHL.JO to C:\\Users\\shume\\Desktop\\6501.81_Capstone Project\\Refrences Data Comparision\\stock index\\WHL.JO_stock_data.csv\n",
      "[*********************100%%**********************]  1 of 1 completed\n",
      "Saved data for SBK.JO to C:\\Users\\shume\\Desktop\\6501.81_Capstone Project\\Refrences Data Comparision\\stock index\\SBK.JO_stock_data.csv\n",
      "[*********************100%%**********************]  1 of 1 completed\n",
      "Saved data for FSR.JO to C:\\Users\\shume\\Desktop\\6501.81_Capstone Project\\Refrences Data Comparision\\stock index\\FSR.JO_stock_data.csv\n"
     ]
    }
   ],
   "source": [
    "import yfinance as yf\n",
    "import os  # for path operations\n",
    "\n",
    "# List of South African stock symbols\n",
    "stock_symbols = [\"AMS.JO\", \"HAR.JO\", \"BAW.JO\", \"SHP.JO\", \"WHL.JO\", \"SBK.JO\", \"FSR.JO\"]\n",
    "\n",
    "# Time range\n",
    "start_date = \"2018-01-01\"\n",
    "end_date = \"2022-12-31\"\n",
    "\n",
    "# Directory to save CSV files\n",
    "save_directory = \"C:\\\\Users\\\\shume\\\\Desktop\\\\6501.81_Capstone Project\\\\Refrences Data Comparision\\\\stock index\"\n",
    "\n",
    "# Check if the directory exists, if not, create it\n",
    "if not os.path.exists(save_directory):\n",
    "    os.makedirs(save_directory)\n",
    "\n",
    "# Fetch and save data for each stock symbol\n",
    "for symbol in stock_symbols:\n",
    "    # Fetch historical stock data\n",
    "    data = yf.download(symbol, start=start_date, end=end_date)\n",
    "    \n",
    "    # Save data to CSV file in the specified directory\n",
    "    csv_filename = os.path.join(save_directory, f\"{symbol}_stock_data.csv\")\n",
    "    data.to_csv(csv_filename)\n",
    "    \n",
    "    print(f\"Saved data for {symbol} to {csv_filename}\")\n"
   ]
  },
  {
   "cell_type": "markdown",
   "id": "5d169385-dcd1-451b-a80f-1d8568bd9cfd",
   "metadata": {},
   "source": [
    "Incorporating stock market data into your traffic estimation model can offer a multi-dimensional perspective on factors affecting traffic flow. Here's how these stocks could be relevant:\n",
    "\n",
    "Economic Indicators: Companies like Anglo American Platinum (AMS.JO) and Harmony Gold Mining (HAR.JO) are closely tied to commodity markets. Their stock prices can reflect broader economic conditions, which in turn could influence cross-border traffic for trade.\n",
    "\n",
    "Consumer Behavior: Retail-oriented stocks like Shoprite Holdings (SHP.JO) and Woolworths Holdings (WHL.JO) could provide insights into consumer behavior. Increased stock prices might correlate with increased consumer activity, potentially affecting traffic patterns, especially during holidays or weekends.\n",
    "\n",
    "Financial Climate: Banking stocks like Standard Bank Group (SBK.JO) and FirstRand Ltd (FSR.JO) might reflect the overall financial climate. For example, a booming stock could indicate a healthy economy, potentially driving up cross-border business and, consequently, traffic.\n",
    "\n",
    "Industrial Activity: Barloworld (BAW.JO), being an industrial brand management company, can give insights into industrial activity levels. Increased stock prices might indicate increased industrial activity, possibly affecting cargo traffic.\n",
    "\n",
    "Correlation with Traffic Metrics: As we've seen in the correlation analysis, some of these stocks show moderate correlation with various traffic metrics, indicating that they could be relevant features for the model.\n",
    "\n",
    "Risk Diversification: Using a variety of stocks from different sectors can help diversify the feature set, making the model more robust to changes in any single sector."
   ]
  }
 ],
 "metadata": {
  "kernelspec": {
   "display_name": "Python 3 (ipykernel)",
   "language": "python",
   "name": "python3"
  },
  "language_info": {
   "codemirror_mode": {
    "name": "ipython",
    "version": 3
   },
   "file_extension": ".py",
   "mimetype": "text/x-python",
   "name": "python",
   "nbconvert_exporter": "python",
   "pygments_lexer": "ipython3",
   "version": "3.11.5"
  }
 },
 "nbformat": 4,
 "nbformat_minor": 5
}
