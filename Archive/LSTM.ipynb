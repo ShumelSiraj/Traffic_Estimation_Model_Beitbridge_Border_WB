{
 "cells": [
  {
   "cell_type": "code",
   "execution_count": 1,
   "id": "34ee8e10-ac83-4655-aad3-fe8b61bccee7",
   "metadata": {},
   "outputs": [],
   "source": [
    "import pandas as pd\n",
    "import numpy as np\n",
    "from sklearn.preprocessing import StandardScaler, LabelEncoder\n",
    "from sklearn.model_selection import train_test_split\n",
    "from tensorflow.keras.models import Sequential\n",
    "from tensorflow.keras.layers import LSTM, Dense\n",
    "from tensorflow.keras.preprocessing.sequence import TimeseriesGenerator"
   ]
  },
  {
   "cell_type": "code",
   "execution_count": 2,
   "id": "b5d5ca41-c75a-4e05-b858-921c5ff22174",
   "metadata": {},
   "outputs": [],
   "source": [
    "# Load the dataset\n",
    "df = pd.read_csv('C:/Users/shume/Desktop/6501.81_Capstone Project/Refrences Data Comparision/Reference Data/Merged_flows_DB_Daily_Aggregated_Holidays_weekdays.csv')\n"
   ]
  },
  {
   "cell_type": "code",
   "execution_count": null,
   "id": "034b67ee-6838-4406-b06c-bc2a6c6f27fe",
   "metadata": {},
   "outputs": [],
   "source": [
    "# Handle missing values in the \"Holiday\" column\n",
    "df['Holiday'] = df['Holiday'].apply(lambda x: 0 if pd.isna(x) else 1)"
   ]
  },
  {
   "cell_type": "code",
   "execution_count": null,
   "id": "df67309b-2e40-41e2-8601-7188a347ac84",
   "metadata": {},
   "outputs": [],
   "source": [
    "# Encode the \"Weekday_or_Weekend\" feature\n",
    "label_encoder = LabelEncoder()\n",
    "df[\"Weekday_or_Weekend\"] = label_encoder.fit_transform(df[\"Weekday_or_Weekend\"])"
   ]
  },
  {
   "cell_type": "code",
   "execution_count": null,
   "id": "87c9b152-3618-4add-a205-a804f759ffb7",
   "metadata": {},
   "outputs": [],
   "source": [
    "# Select features and target variable\n",
    "features = df[[\"Holiday\", \"Day_of_Week\", \"Weekday_or_Weekend\"]]\n",
    "target = df[\"To Musina,Total_3201\"]"
   ]
  },
  {
   "cell_type": "code",
   "execution_count": null,
   "id": "ae1c582a-4763-464a-883f-1bead9f1bb1c",
   "metadata": {},
   "outputs": [],
   "source": [
    "# Normalize the features and target\n",
    "scaler = StandardScaler()\n",
    "features_scaled = scaler.fit_transform(features)\n",
    "target_scaled = scaler.fit_transform(target.values.reshape(-1, 1))"
   ]
  },
  {
   "cell_type": "code",
   "execution_count": null,
   "id": "ffaf7f4e-4e5b-4ed8-9388-7660c07b930d",
   "metadata": {},
   "outputs": [],
   "source": [
    "# Convert to numpy arrays\n",
    "features_array = np.array(features_scaled)\n",
    "target_array = np.array(target_scaled)"
   ]
  },
  {
   "cell_type": "code",
   "execution_count": null,
   "id": "d456d365-0e5b-4769-a7e6-09030594cda3",
   "metadata": {},
   "outputs": [],
   "source": [
    "# Parameters\n",
    "time_steps = 7  # One week of data\n",
    "batch_size = 8\n",
    "\n",
    "# Create TimeseriesGenerator for training data\n",
    "generator = TimeseriesGenerator(features_array, target_array, length=time_steps, batch_size=batch_size)\n"
   ]
  },
  {
   "cell_type": "code",
   "execution_count": null,
   "id": "c931c093-9aa1-496e-8570-dd2f529fa770",
   "metadata": {},
   "outputs": [],
   "source": []
  }
 ],
 "metadata": {
  "kernelspec": {
   "display_name": "Python 3 (ipykernel)",
   "language": "python",
   "name": "python3"
  },
  "language_info": {
   "codemirror_mode": {
    "name": "ipython",
    "version": 3
   },
   "file_extension": ".py",
   "mimetype": "text/x-python",
   "name": "python",
   "nbconvert_exporter": "python",
   "pygments_lexer": "ipython3",
   "version": "3.11.5"
  }
 },
 "nbformat": 4,
 "nbformat_minor": 5
}
