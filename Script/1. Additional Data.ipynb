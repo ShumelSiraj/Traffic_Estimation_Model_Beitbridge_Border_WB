{
 "cells": [
  {
   "cell_type": "markdown",
   "id": "c0457c91-98ab-4142-8386-a52bb63e4698",
   "metadata": {},
   "source": [
    "# **Gathering and Storing Holiday Data for Zimbabwe and South Africa**"
   ]
  },
  {
   "cell_type": "code",
   "execution_count": 1,
   "id": "0f91c3a5-d5e3-444e-b87d-6a857cfef28a",
   "metadata": {},
   "outputs": [
    {
     "name": "stdout",
     "output_type": "stream",
     "text": [
      "Requirement already satisfied: holidays in c:\\users\\shume\\appdata\\local\\programs\\python\\python311\\lib\\site-packages (0.40)\n",
      "Requirement already satisfied: python-dateutil in c:\\users\\shume\\appdata\\local\\programs\\python\\python311\\lib\\site-packages (from holidays) (2.8.2)\n",
      "Requirement already satisfied: six>=1.5 in c:\\users\\shume\\appdata\\local\\programs\\python\\python311\\lib\\site-packages (from python-dateutil->holidays) (1.16.0)\n"
     ]
    },
    {
     "name": "stderr",
     "output_type": "stream",
     "text": [
      "\n",
      "[notice] A new release of pip is available: 23.3 -> 23.3.2\n",
      "[notice] To update, run: python.exe -m pip install --upgrade pip\n"
     ]
    }
   ],
   "source": [
    "!pip install --upgrade holidays"
   ]
  },
  {
   "cell_type": "markdown",
   "id": "1016bbbe-dc40-4f56-873b-185e89cb29cb",
   "metadata": {},
   "source": [
    "**The primary objective is to compile a comprehensive list of public holidays for Zimbabwe (ZW) and South Africa (ZA) for the years 2018 through 2022. This data is crucial for various analyses, such as understanding traffic patterns or economic activities during public holidays. By analyzing traffic or business data in the context of these holidays, we can derive insights that are otherwise not apparent.**"
   ]
  },
  {
   "cell_type": "code",
   "execution_count": 2,
   "id": "9bef632a-45b3-4ee3-8b54-9f321f88feb4",
   "metadata": {},
   "outputs": [],
   "source": [
    "import csv\n",
    "from datetime import date\n",
    "import holidays\n",
    "\n",
    "# Initialize empty dictionaries for Zimbabwe and South Africa\n",
    "zw_holidays = {}\n",
    "za_holidays = {}\n",
    "\n",
    "# Populate the dictionaries if the holiday data is available\n",
    "try:\n",
    "    zw_holidays = holidays.ZW(years=[2018, 2019, 2020, 2021, 2022])  # this should be a dict\n",
    "    za_holidays = holidays.ZA(years=[2018, 2019, 2020, 2021, 2022])  # this should be a dict\n",
    "except Exception as e:\n",
    "    print(f\"An error occurred: {e}\")\n",
    "\n",
    "# Combine the holiday dictionaries for both countries and keep the holiday name\n",
    "Combined_Holidays = {}\n",
    "if isinstance(zw_holidays, dict) and isinstance(za_holidays, dict):\n",
    "    Combined_Holidays = {date: name for date, name in zw_holidays.items()}\n",
    "    Combined_Holidays.update({date: name for date, name in za_holidays.items()})\n",
    "\n",
    "# Function to save holidays to a single CSV file\n",
    "def save_Combined_Holidays_to_csv(country_holidays, path):\n",
    "    with open(f\"{path}/Combined_Holidays.csv\", 'w', newline='') as csvfile:\n",
    "        csvwriter = csv.writer(csvfile)\n",
    "        csvwriter.writerow(['Date', 'Holiday'])  # Single 'Holiday' column\n",
    "        for date, name in sorted(country_holidays.items()):\n",
    "            csvwriter.writerow([date, name])  # Write Date and Holiday Name\n",
    "\n",
    "# Save combined holidays\n",
    "if Combined_Holidays:\n",
    "    save_Combined_Holidays_to_csv(Combined_Holidays, 'C:/Users/shume/Desktop/6501.81_Capstone Project/Refrences Data Comparision/Additional Data/')\n"
   ]
  },
  {
   "cell_type": "markdown",
   "id": "ad1b298d-d463-4588-a6d1-dd4a306494c4",
   "metadata": {},
   "source": [
    "# **Downloading and Processing OPEC Fuel Price Data**"
   ]
  },
  {
   "cell_type": "code",
   "execution_count": 3,
   "id": "39e381ee-7115-4394-a2c8-1ff4484ae17d",
   "metadata": {},
   "outputs": [
    {
     "name": "stdout",
     "output_type": "stream",
     "text": [
      "Requirement already satisfied: requests in c:\\users\\shume\\appdata\\local\\programs\\python\\python311\\lib\\site-packages (2.31.0)"
     ]
    },
    {
     "name": "stderr",
     "output_type": "stream",
     "text": [
      "\n",
      "[notice] A new release of pip is available: 23.3 -> 23.3.2\n",
      "[notice] To update, run: python.exe -m pip install --upgrade pip\n"
     ]
    },
    {
     "name": "stdout",
     "output_type": "stream",
     "text": [
      "\n",
      "Requirement already satisfied: charset-normalizer<4,>=2 in c:\\users\\shume\\appdata\\local\\programs\\python\\python311\\lib\\site-packages (from requests) (3.3.0)\n",
      "Requirement already satisfied: idna<4,>=2.5 in c:\\users\\shume\\appdata\\local\\programs\\python\\python311\\lib\\site-packages (from requests) (3.4)\n",
      "Requirement already satisfied: urllib3<3,>=1.21.1 in c:\\users\\shume\\appdata\\local\\programs\\python\\python311\\lib\\site-packages (from requests) (2.0.5)\n",
      "Requirement already satisfied: certifi>=2017.4.17 in c:\\users\\shume\\appdata\\local\\programs\\python\\python311\\lib\\site-packages (from requests) (2023.7.22)\n"
     ]
    }
   ],
   "source": [
    "!pip install requests"
   ]
  },
  {
   "cell_type": "markdown",
   "id": "ba077bfe-dddd-4226-8c04-4439f1fe6b41",
   "metadata": {},
   "source": [
    "**The goal of this script is to download, parse, and process fuel price data from the OPEC (Organization of the Petroleum Exporting Countries) website. The data is in XML format and the script converts it into a more accessible CSV format, focusing on data from the years 2018 to 2022.**"
   ]
  },
  {
   "cell_type": "code",
   "execution_count": 4,
   "id": "a1eb7cbf-4b1b-4a71-9799-127bf58bd41e",
   "metadata": {},
   "outputs": [
    {
     "name": "stdout",
     "output_type": "stream",
     "text": [
      "XML file downloaded. Proceeding to next steps.\n",
      "XML is well-formed.\n",
      "Filtered CSV saved at C:\\Users\\shume\\Desktop\\6501.81_Capstone Project\\Refrences Data Comparision\\Additional Data\\OPEC_Fuel_price.csv\n"
     ]
    }
   ],
   "source": [
    "import requests\n",
    "import xml.etree.ElementTree as ET\n",
    "import pandas as pd\n",
    "\n",
    "# Step 1: Download XML from URL\n",
    "file_url = 'https://www.opec.org/basket/basketDayArchives.xml'\n",
    "response = requests.get(file_url)\n",
    "\n",
    "if response.status_code != 200:\n",
    "    print(\"Failed to download the XML file. Please check the URL.\")\n",
    "else:\n",
    "    print(\"XML file downloaded. Proceeding to next steps.\")\n",
    "    \n",
    "    # Step 2: Parse XML\n",
    "    try:\n",
    "        root = ET.fromstring(response.content)\n",
    "        print(\"XML is well-formed.\")\n",
    "        \n",
    "        # Data extraction and CSV conversion steps\n",
    "        data_list = []\n",
    "        for child in root:\n",
    "            data_dict = {\n",
    "                \"Date\": child.attrib.get('data', None),\n",
    "                \"Price\": child.attrib.get('val', None)\n",
    "            }\n",
    "            data_list.append(data_dict)\n",
    "\n",
    "        df = pd.DataFrame(data_list)\n",
    "        df['Date'] = pd.to_datetime(df['Date'])\n",
    "        filtered_df = df[(df['Date'] >= '2018-01-01') & (df['Date'] <= '2022-12-31')]\n",
    "        filtered_csv_file_path = 'C:\\\\Users\\\\shume\\\\Desktop\\\\6501.81_Capstone Project\\\\Refrences Data Comparision\\\\Additional Data\\\\OPEC_Fuel_price.csv'\n",
    "        filtered_df.to_csv(filtered_csv_file_path, index=False)\n",
    "        print(f\"Filtered CSV saved at {filtered_csv_file_path}\")\n",
    "\n",
    "    except ET.ParseError:\n",
    "        print(\"XML is not well-formed. Please correct the XML and try again.\")\n"
   ]
  },
  {
   "cell_type": "markdown",
   "id": "89a9517a-dd54-4ffc-b2af-318aebd90aa8",
   "metadata": {},
   "source": [
    "**The OPEC (Organization of the Petroleum Exporting Countries) Basket Price, also known as the OPEC Reference Basket, is a weighted average of oil prices collected from various OPEC member countries. It serves as a significant benchmark for oil prices worldwide and provides a reliable gauge of oil market conditions.**\n",
    "\n",
    "**The OPEC Basket is comprised of different crude oils from OPEC member countries, each with varying characteristics and prices. The oils included in the basket are selected based on their importance in the global oil market, and the basket is continually updated to reflect changes in production and exports.**\n",
    "\n",
    "**The OPEC Basket Price is used for:**\n",
    "\n",
    "**Market Analysis: It serves as a reference point for understanding global oil prices.\n",
    "Policy Decisions: OPEC and other organizations use it to make informed decisions about oil production quotas.\n",
    "Economic Forecasting: It is a crucial variable for predicting economic conditions, as fluctuations in oil prices can significantly impact the global economy.**"
   ]
  },
  {
   "cell_type": "markdown",
   "id": "a4722841-0bd6-4140-8b83-c429a51b5399",
   "metadata": {},
   "source": [
    "# **Stock Data Retrieval**"
   ]
  },
  {
   "cell_type": "code",
   "execution_count": 5,
   "id": "bc0b3789-df87-4f56-a236-ba75f078c699",
   "metadata": {},
   "outputs": [
    {
     "name": "stdout",
     "output_type": "stream",
     "text": [
      "Requirement already satisfied: yfinance in c:\\users\\shume\\appdata\\local\\programs\\python\\python311\\lib\\site-packages (0.2.31)\n",
      "Requirement already satisfied: pandas>=1.3.0 in c:\\users\\shume\\appdata\\local\\programs\\python\\python311\\lib\\site-packages (from yfinance) (2.1.1)\n",
      "Requirement already satisfied: numpy>=1.16.5 in c:\\users\\shume\\appdata\\local\\programs\\python\\python311\\lib\\site-packages (from yfinance) (1.25.2)\n",
      "Requirement already satisfied: requests>=2.31 in c:\\users\\shume\\appdata\\local\\programs\\python\\python311\\lib\\site-packages (from yfinance) (2.31.0)\n",
      "Requirement already satisfied: multitasking>=0.0.7 in c:\\users\\shume\\appdata\\local\\programs\\python\\python311\\lib\\site-packages (from yfinance) (0.0.11)\n",
      "Requirement already satisfied: lxml>=4.9.1 in c:\\users\\shume\\appdata\\local\\programs\\python\\python311\\lib\\site-packages (from yfinance) (4.9.3)\n",
      "Requirement already satisfied: appdirs>=1.4.4 in c:\\users\\shume\\appdata\\local\\programs\\python\\python311\\lib\\site-packages (from yfinance) (1.4.4)\n",
      "Requirement already satisfied: pytz>=2022.5 in c:\\users\\shume\\appdata\\local\\programs\\python\\python311\\lib\\site-packages (from yfinance) (2023.3.post1)\n",
      "Requirement already satisfied: frozendict>=2.3.4 in c:\\users\\shume\\appdata\\local\\programs\\python\\python311\\lib\\site-packages (from yfinance) (2.3.8)\n",
      "Requirement already satisfied: peewee>=3.16.2 in c:\\users\\shume\\appdata\\local\\programs\\python\\python311\\lib\\site-packages (from yfinance) (3.17.0)\n",
      "Requirement already satisfied: beautifulsoup4>=4.11.1 in c:\\users\\shume\\appdata\\local\\programs\\python\\python311\\lib\\site-packages (from yfinance) (4.12.2)\n",
      "Requirement already satisfied: html5lib>=1.1 in c:\\users\\shume\\appdata\\local\\programs\\python\\python311\\lib\\site-packages (from yfinance) (1.1)\n",
      "Requirement already satisfied: soupsieve>1.2 in c:\\users\\shume\\appdata\\local\\programs\\python\\python311\\lib\\site-packages (from beautifulsoup4>=4.11.1->yfinance) (2.5)\n",
      "Requirement already satisfied: six>=1.9 in c:\\users\\shume\\appdata\\local\\programs\\python\\python311\\lib\\site-packages (from html5lib>=1.1->yfinance) (1.16.0)\n",
      "Requirement already satisfied: webencodings in c:\\users\\shume\\appdata\\local\\programs\\python\\python311\\lib\\site-packages (from html5lib>=1.1->yfinance) (0.5.1)\n",
      "Requirement already satisfied: python-dateutil>=2.8.2 in c:\\users\\shume\\appdata\\local\\programs\\python\\python311\\lib\\site-packages (from pandas>=1.3.0->yfinance) (2.8.2)\n",
      "Requirement already satisfied: tzdata>=2022.1 in c:\\users\\shume\\appdata\\local\\programs\\python\\python311\\lib\\site-packages (from pandas>=1.3.0->yfinance) (2023.3)\n",
      "Requirement already satisfied: charset-normalizer<4,>=2 in c:\\users\\shume\\appdata\\local\\programs\\python\\python311\\lib\\site-packages (from requests>=2.31->yfinance) (3.3.0)\n",
      "Requirement already satisfied: idna<4,>=2.5 in c:\\users\\shume\\appdata\\local\\programs\\python\\python311\\lib\\site-packages (from requests>=2.31->yfinance) (3.4)\n",
      "Requirement already satisfied: urllib3<3,>=1.21.1 in c:\\users\\shume\\appdata\\local\\programs\\python\\python311\\lib\\site-packages (from requests>=2.31->yfinance) (2.0.5)\n",
      "Requirement already satisfied: certifi>=2017.4.17 in c:\\users\\shume\\appdata\\local\\programs\\python\\python311\\lib\\site-packages (from requests>=2.31->yfinance) (2023.7.22)\n"
     ]
    },
    {
     "name": "stderr",
     "output_type": "stream",
     "text": [
      "\n",
      "[notice] A new release of pip is available: 23.3 -> 23.3.2\n",
      "[notice] To update, run: python.exe -m pip install --upgrade pip\n"
     ]
    }
   ],
   "source": [
    "!pip install yfinance"
   ]
  },
  {
   "cell_type": "markdown",
   "id": "d86f0bbc-364c-4c3d-b1d4-8a421d493673",
   "metadata": {},
   "source": [
    "**Here, we integrate economic indicators into a traffic volume estimation model. The stock data from major companies, which serves as a proxy for economic activity, significantly enhances traffic predictions. Generally, higher economic activity correlates with increased traffic volumes and vice versa. By automating the retrieval of this stock data, we can indirectly assess economic conditions, a crucial factor for accurate traffic volume modeling. This approach is particularly useful for traffic and urban development analysis.**"
   ]
  },
  {
   "cell_type": "code",
   "execution_count": 6,
   "id": "bb506764-bc16-4556-902e-0e6a60ee6b45",
   "metadata": {},
   "outputs": [
    {
     "name": "stdout",
     "output_type": "stream",
     "text": [
      "[*********************100%%**********************]  1 of 1 completed\n",
      "Saved data for AMS.JO to C:\\Users\\shume\\Desktop\\6501.81_Capstone Project\\Refrences Data Comparision\\Additional Data\\stock index\\AMS.JO_stock_data.csv\n",
      "[*********************100%%**********************]  1 of 1 completed\n",
      "Saved data for HAR.JO to C:\\Users\\shume\\Desktop\\6501.81_Capstone Project\\Refrences Data Comparision\\Additional Data\\stock index\\HAR.JO_stock_data.csv\n",
      "[*********************100%%**********************]  1 of 1 completed\n",
      "Saved data for BAW.JO to C:\\Users\\shume\\Desktop\\6501.81_Capstone Project\\Refrences Data Comparision\\Additional Data\\stock index\\BAW.JO_stock_data.csv\n",
      "[*********************100%%**********************]  1 of 1 completed\n",
      "Saved data for SHP.JO to C:\\Users\\shume\\Desktop\\6501.81_Capstone Project\\Refrences Data Comparision\\Additional Data\\stock index\\SHP.JO_stock_data.csv\n",
      "[*********************100%%**********************]  1 of 1 completed\n",
      "Saved data for WHL.JO to C:\\Users\\shume\\Desktop\\6501.81_Capstone Project\\Refrences Data Comparision\\Additional Data\\stock index\\WHL.JO_stock_data.csv\n",
      "[*********************100%%**********************]  1 of 1 completed\n",
      "Saved data for SBK.JO to C:\\Users\\shume\\Desktop\\6501.81_Capstone Project\\Refrences Data Comparision\\Additional Data\\stock index\\SBK.JO_stock_data.csv\n",
      "[*********************100%%**********************]  1 of 1 completed\n",
      "Saved data for FSR.JO to C:\\Users\\shume\\Desktop\\6501.81_Capstone Project\\Refrences Data Comparision\\Additional Data\\stock index\\FSR.JO_stock_data.csv\n"
     ]
    }
   ],
   "source": [
    "import yfinance as yf\n",
    "import os  # for path operations\n",
    "\n",
    "# List of South African stock symbols\n",
    "stock_symbols = [\"AMS.JO\", \"HAR.JO\", \"BAW.JO\", \"SHP.JO\", \"WHL.JO\", \"SBK.JO\", \"FSR.JO\"]\n",
    "\n",
    "# Time range\n",
    "start_date = \"2018-01-01\"\n",
    "end_date = \"2022-12-31\"\n",
    "\n",
    "# Directory to save CSV files\n",
    "save_directory = \"C:\\\\Users\\\\shume\\\\Desktop\\\\6501.81_Capstone Project\\\\Refrences Data Comparision\\\\Additional Data\\\\stock index\"\n",
    "\n",
    "# Check if the directory exists, if not, create it\n",
    "if not os.path.exists(save_directory):\n",
    "    os.makedirs(save_directory)\n",
    "\n",
    "# Fetch and save data for each stock symbol\n",
    "for symbol in stock_symbols:\n",
    "    # Fetch historical stock data\n",
    "    data = yf.download(symbol, start=start_date, end=end_date)\n",
    "    \n",
    "    # Save data to CSV file in the specified directory\n",
    "    csv_filename = os.path.join(save_directory, f\"{symbol}_stock_data.csv\")\n",
    "    data.to_csv(csv_filename)\n",
    "    \n",
    "    print(f\"Saved data for {symbol} to {csv_filename}\")\n"
   ]
  },
  {
   "cell_type": "markdown",
   "id": "baeee5da-dd07-4e66-8455-50c983c8c8dd",
   "metadata": {},
   "source": [
    "**Incorporating stock market data into your traffic estimation model can offer a multi-dimensional perspective on factors affecting traffic flow. Here's how these stocks could be relevant:**\n",
    "\n",
    "**Economic Indicators: Companies like Anglo American Platinum (AMS.JO) and Harmony Gold Mining (HAR.JO) are closely tied to commodity markets. Their stock prices can reflect broader economic conditions, which in turn could influence cross-border traffic for trade.**\n",
    "\n",
    "**Consumer Behavior: Retail-oriented stocks like Shoprite Holdings (SHP.JO) and Woolworths Holdings (WHL.JO) could provide insights into consumer behavior. Increased stock prices might correlate with increased consumer activity, potentially affecting traffic patterns, especially during holidays or weekends.**\n",
    "\n",
    "**Financial Climate: Banking stocks like Standard Bank Group (SBK.JO) and FirstRand Ltd (FSR.JO) might reflect the overall financial climate. For example, a booming stock could indicate a healthy economy, potentially driving up cross-border business and, consequently, traffic.**\n",
    "\n",
    "**Industrial Activity: Barloworld (BAW.JO), being an industrial brand management company, can give insights into industrial activity levels. Increased stock prices might indicate increased industrial activity, possibly affecting cargo traffic.**\n",
    "\n",
    "**Correlation with Traffic Metrics: As we've seen in the correlation analysis, some of these stocks show moderate correlation with various traffic metrics, indicating that they could be relevant features for the model.**\n",
    "\n",
    "**Risk Diversification: Using a variety of stocks from different sectors can help diversify the feature set, making the model more robust to changes in any single sector.**"
   ]
  },
  {
   "cell_type": "code",
   "execution_count": null,
   "id": "9c37030f-60be-47fc-813c-30a6c3161297",
   "metadata": {},
   "outputs": [],
   "source": []
  }
 ],
 "metadata": {
  "kernelspec": {
   "display_name": "Python 3 (ipykernel)",
   "language": "python",
   "name": "python3"
  },
  "language_info": {
   "codemirror_mode": {
    "name": "ipython",
    "version": 3
   },
   "file_extension": ".py",
   "mimetype": "text/x-python",
   "name": "python",
   "nbconvert_exporter": "python",
   "pygments_lexer": "ipython3",
   "version": "3.11.5"
  }
 },
 "nbformat": 4,
 "nbformat_minor": 5
}
